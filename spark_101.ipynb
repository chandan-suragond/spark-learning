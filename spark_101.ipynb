{
 "cells": [
  {
   "cell_type": "code",
   "execution_count": 13,
   "id": "b2e4dffc",
   "metadata": {},
   "outputs": [],
   "source": [
    "from pyspark.sql import SparkSession\n",
    "\n",
    "spark = SparkSession.builder \\\n",
    "    .appName(\"HelloSpark\") \\\n",
    "    .master(\"local[*]\") \\\n",
    "    .getOrCreate()"
   ]
  },
  {
   "cell_type": "code",
   "execution_count": 14,
   "id": "4a44aaf3",
   "metadata": {},
   "outputs": [],
   "source": [
    "fire_df = spark.read \\\n",
    "            .format(\"csv\") \\\n",
    "            .option(\"header\", True) \\\n",
    "            .option(\"inferSchema\", True) \\\n",
    "            .load(r\"C:\\Users\\chasurag\\Documents\\my repos\\Fire_Department_and_Emergency_Medical_Services_Dispatched_Calls_for_Service_20250806.csv\")\n",
    "\n",
    "# fire_df.printSchema()"
   ]
  },
  {
   "cell_type": "code",
   "execution_count": 15,
   "id": "072c2792",
   "metadata": {},
   "outputs": [
    {
     "name": "stdout",
     "output_type": "stream",
     "text": [
      "+-----------+-------+---------------+-----------------+----------+----------+--------------------+--------------------+--------------------+--------------------+--------------------+--------------------+--------------------+----------------------+--------------------+--------------------+-------------+-------------------+---------+------------+----+-----------------+--------+--------------+--------+--------------------+----------------+---------+------------------------------+------------------------+-------------------+------------------------------------+---------------+--------------------+--------------------+--------------------+\n",
      "|Call Number|Unit ID|Incident Number|        Call Type| Call Date|Watch Date|       Received DtTm|          Entry DtTm|       Dispatch DtTm|       Response DtTm|       On Scene DtTm|      Transport DtTm|       Hospital DtTm|Call Final Disposition|      Available DtTm|             Address|         City|Zipcode of Incident|Battalion|Station Area| Box|Original Priority|Priority|Final Priority|ALS Unit|     Call Type Group|Number of Alarms|Unit Type|Unit sequence in call dispatch|Fire Prevention District|Supervisor District|Neighborhooods - Analysis Boundaries|          RowID|       case_location|          data_as_of|      data_loaded_at|\n",
      "+-----------+-------+---------------+-----------------+----------+----------+--------------------+--------------------+--------------------+--------------------+--------------------+--------------------+--------------------+----------------------+--------------------+--------------------+-------------+-------------------+---------+------------+----+-----------------+--------+--------------+--------+--------------------+----------------+---------+------------------------------+------------------------+-------------------+------------------------------------+---------------+--------------------+--------------------+--------------------+\n",
      "|  240021037|   M595|       24000773| Medical Incident|01/02/2024|01/02/2024|01/02/2024 11:00:...|01/02/2024 11:02:...|01/02/2024 11:02:...|01/02/2024 11:05:...|01/02/2024 11:05:...|01/02/2024 11:21:...|01/02/2024 11:32:...|      Code 2 Transport|01/02/2024 12:27:...|STOCKTON ST/BROADWAY|San Francisco|            94133.0|      B01|           2|1333|                3|       2|             2|    true|Non Life-threatening|               1|    MEDIC|                             1|                       1|                  3|                           Chinatown| 240021037-M595|POINT (-122.40861...|02/05/2024 03:27:...|02/05/2024 10:56:...|\n",
      "|  240020773|    E31|       24000733|           Alarms|01/02/2024|01/02/2024|01/02/2024 09:33:...|01/02/2024 09:34:...|01/02/2024 09:34:...|01/02/2024 09:35:...|01/02/2024 09:39:...|                NULL|                NULL|                  Fire|01/02/2024 09:46:...|    ANZA ST/05TH AVE|San Francisco|            94118.0|      B07|          31|7124|                3|       3|             3|    true|               Alarm|               1|   ENGINE|                             1|                       7|                  1|                      Inner Richmond|  240020773-E31|POINT (-122.46307...|02/05/2024 03:27:...|02/05/2024 10:56:...|\n",
      "|  240022849|    E07|       24001015| Medical Incident|01/02/2024|01/02/2024|01/02/2024 09:09:...|01/02/2024 09:12:...|01/02/2024 09:12:...|01/02/2024 09:12:...|01/02/2024 09:14:...|                NULL|                NULL|      Code 3 Transport|01/02/2024 09:34:...|     CAPP ST/21ST ST|San Francisco|            94110.0|      B06|           7|5446|                3|       3|             3|   false|Potentially Life-...|               1|   ENGINE|                             1|                       6|                  9|                             Mission|  240022849-E07|POINT (-122.41781...|02/05/2024 03:27:...|02/05/2024 10:56:...|\n",
      "|  240021083|    B01|       24000779|           Alarms|01/02/2024|01/02/2024|01/02/2024 11:22:...|01/02/2024 11:24:...|01/02/2024 11:24:...|01/02/2024 11:26:...|01/02/2024 11:29:...|                NULL|                NULL|                  Fire|01/02/2024 11:40:...|SPROULE LN/SACRAM...|San Francisco|            94108.0|      B01|          41|1414|                3|       3|             3|   false|               Alarm|               1|    CHIEF|                             2|                       1|                  3|                            Nob Hill|  240021083-B01|POINT (-122.41193...|02/05/2024 03:27:...|02/05/2024 10:56:...|\n",
      "|  240022253|  SCRT7|       24000936| Medical Incident|01/02/2024|01/02/2024|01/02/2024 05:22:...|01/02/2024 05:24:...|01/02/2024 05:33:...|01/02/2024 05:33:...|01/02/2024 05:33:...|                NULL|                NULL|                 Other|01/02/2024 05:51:...|LANGTON ST/DECKER...|San Francisco|            94103.0|      B03|           1|2313|                E|       E|             3|   false|Potentially Life-...|               1|       CP|                             1|                       2|                  6|                     South of Market|240022253-SCRT7|POINT (-122.40804...|02/05/2024 03:27:...|02/05/2024 10:56:...|\n",
      "|  240022198|   M530|       24000925| Medical Incident|01/02/2024|01/02/2024|01/02/2024 05:01:...|01/02/2024 05:04:...|01/02/2024 05:04:...|01/02/2024 05:04:...|01/02/2024 05:11:...|01/02/2024 05:40:...|01/02/2024 05:44:...|      Code 3 Transport|01/02/2024 06:40:...|   POST ST/LARKIN ST|San Francisco|            94109.0|      B04|           3|1641|                3|       3|             3|    true|Potentially Life-...|               1|    MEDIC|                             2|                       4|                  6|                          Tenderloin| 240022198-M530|POINT (-122.41827...|02/05/2024 03:27:...|02/05/2024 10:56:...|\n",
      "|  240023182|    E42|       24001055|Traffic Collision|01/02/2024|01/02/2024|01/02/2024 11:31:...|01/02/2024 11:33:...|01/02/2024 11:34:...|01/02/2024 11:35:...|01/02/2024 11:49:...|                NULL|                NULL|      Code 2 Transport|01/02/2024 11:54:...|SILVER AVE/SAN BR...|San Francisco|            94134.0|      B10|          42|6374|                3|       3|             3|    true|Potentially Life-...|               1|   ENGINE|                             3|                      10|                  9|                             Portola|  240023182-E42|POINT (-122.40561...|02/05/2024 03:27:...|02/05/2024 10:56:...|\n",
      "|  240020385|    E13|       24000663|           Alarms|01/02/2024|01/01/2024|01/02/2024 06:27:...|01/02/2024 06:29:...|01/02/2024 06:29:...|01/02/2024 06:31:...|01/02/2024 06:33:...|                NULL|                NULL|                  Fire|01/02/2024 06:50:...| GREEN ST/SANSOME ST|San Francisco|            94111.0|      B01|          13|1213|                3|       3|             3|    true|               Alarm|               1|   ENGINE|                             1|                       1|                  3|                         North Beach|  240020385-E13|POINT (-122.4026 ...|02/05/2024 03:27:...|02/05/2024 10:56:...|\n",
      "|  240022682|   M563|       24000992| Medical Incident|01/02/2024|01/02/2024|01/02/2024 07:59:...|01/02/2024 08:00:...|01/02/2024 08:00:...|                NULL|                NULL|                NULL|                NULL|      Code 2 Transport|01/02/2024 08:02:...|CASHMERE ST/HUDSO...|San Francisco|            94124.0|      B10|          17|6522|                3|       3|             3|    true|Potentially Life-...|               1|    MEDIC|                             3|                      10|                 10|                Bayview Hunters P...| 240022682-M563|POINT (-122.38342...|02/05/2024 03:27:...|02/05/2024 10:56:...|\n",
      "|  240020144|    E38|       24000614| Medical Incident|01/02/2024|01/01/2024|01/02/2024 02:06:...|01/02/2024 02:10:...|01/02/2024 02:10:...|01/02/2024 02:12:...|01/02/2024 02:14:...|                NULL|                NULL|      Code 3 Transport|01/02/2024 02:25:...|VAN NESS AVE/CALI...|San Francisco|            94109.0|      B04|          38|3155|                3|       3|             3|    true|Potentially Life-...|               1|   ENGINE|                             1|                       4|                  2|                            Nob Hill|  240020144-E38|POINT (-122.42233...|02/05/2024 03:27:...|02/05/2024 10:56:...|\n",
      "+-----------+-------+---------------+-----------------+----------+----------+--------------------+--------------------+--------------------+--------------------+--------------------+--------------------+--------------------+----------------------+--------------------+--------------------+-------------+-------------------+---------+------------+----+-----------------+--------+--------------+--------+--------------------+----------------+---------+------------------------------+------------------------+-------------------+------------------------------------+---------------+--------------------+--------------------+--------------------+\n",
      "only showing top 10 rows\n",
      "\n"
     ]
    }
   ],
   "source": [
    "fire_df.show(10)"
   ]
  },
  {
   "cell_type": "code",
   "execution_count": 16,
   "id": "ed6e6c07",
   "metadata": {},
   "outputs": [
    {
     "name": "stdout",
     "output_type": "stream",
     "text": [
      "+----------------------+\n",
      "|Received DtTm         |\n",
      "+----------------------+\n",
      "|01/02/2024 11:00:26 AM|\n",
      "|01/02/2024 09:33:02 AM|\n",
      "|01/02/2024 09:09:52 PM|\n",
      "|01/02/2024 11:22:41 AM|\n",
      "|01/02/2024 05:22:16 PM|\n",
      "|01/02/2024 05:01:12 PM|\n",
      "|01/02/2024 11:31:10 PM|\n",
      "|01/02/2024 06:27:35 AM|\n",
      "|01/02/2024 07:59:33 PM|\n",
      "|01/02/2024 02:06:54 AM|\n",
      "+----------------------+\n",
      "\n"
     ]
    }
   ],
   "source": [
    "fire_df.createOrReplaceTempView(\"fire_view\")\n",
    "spark.sql(\"\"\"\n",
    "    SELECT \n",
    "        `Received DtTm` \n",
    "    FROM fire_view \n",
    "    LIMIT 10\n",
    "\"\"\").show(truncate = False)"
   ]
  },
  {
   "cell_type": "code",
   "execution_count": 17,
   "id": "f62a3237",
   "metadata": {},
   "outputs": [
    {
     "name": "stdout",
     "output_type": "stream",
     "text": [
      "+-------------------+--------+\n",
      "|received_date_month|count(1)|\n",
      "+-------------------+--------+\n",
      "|2024-2             |29526   |\n",
      "|2024-1             |30495   |\n",
      "|2024-3             |30453   |\n",
      "|2024-4             |28557   |\n",
      "|2024-5             |29630   |\n",
      "|2024-6             |28500   |\n",
      "|2024-8             |30447   |\n",
      "|2024-7             |29833   |\n",
      "|2024-9             |30158   |\n",
      "|2024-10            |32360   |\n",
      "|2024-12            |32832   |\n",
      "|2024-11            |30665   |\n",
      "|2025-1             |33196   |\n",
      "|2025-2             |30434   |\n",
      "|2025-4             |29347   |\n",
      "|2025-3             |30744   |\n",
      "|2025-5             |30638   |\n",
      "|2025-6             |29130   |\n",
      "|2025-7             |29681   |\n",
      "|2025-8             |3917    |\n",
      "+-------------------+--------+\n",
      "\n"
     ]
    }
   ],
   "source": [
    "spark.sql(\"\"\"\n",
    "          select concat(year(to_date(`Received DtTm`, 'MM/dd/yyyy hh:mm:ss a')), '-', month(to_date(`Received DtTm`, 'MM/dd/yyyy hh:mm:ss a'))) as received_date_month, count(*)\n",
    "          from fire_view\n",
    "          group by concat(year(to_date(`Received DtTm`, 'MM/dd/yyyy hh:mm:ss a')), '-', month(to_date(`Received DtTm`, 'MM/dd/yyyy hh:mm:ss a')))\n",
    "          \"\"\").show(truncate = False)"
   ]
  },
  {
   "cell_type": "code",
   "execution_count": 18,
   "id": "17ba788f",
   "metadata": {},
   "outputs": [
    {
     "name": "stdout",
     "output_type": "stream",
     "text": [
      "+--------+------------+\n",
      "|week_num|num_of_calls|\n",
      "+--------+------------+\n",
      "|40      |8344        |\n",
      "|1       |8172        |\n",
      "|50      |7777        |\n",
      "|51      |7659        |\n",
      "|6       |7439        |\n",
      "|45      |7432        |\n",
      "|41      |7416        |\n",
      "|2       |7312        |\n",
      "|5       |7301        |\n",
      "|47      |7269        |\n",
      "|39      |7262        |\n",
      "|4       |7261        |\n",
      "|35      |7179        |\n",
      "|49      |7168        |\n",
      "|52      |7129        |\n",
      "|32      |7101        |\n",
      "|42      |7041        |\n",
      "|27      |7028        |\n",
      "|8       |7020        |\n",
      "|36      |7007        |\n",
      "+--------+------------+\n",
      "only showing top 20 rows\n",
      "\n"
     ]
    }
   ],
   "source": [
    "spark.sql(\"\"\"\n",
    "          select weekofyear(to_date(`Call Date`, 'MM/dd/yyyy')) as week_num, count(*) as num_of_calls\n",
    "          from fire_view\n",
    "          where year(to_date(`Call Date`, 'MM/dd/yyyy')) = 2024\n",
    "          group by weekofyear(to_date(`Call Date`, 'MM/dd/yyyy'))\n",
    "          order by count(*) desc\n",
    "          \"\"\"\n",
    "        ).show(truncate = False)\n"
   ]
  },
  {
   "cell_type": "code",
   "execution_count": 19,
   "id": "5e0771a5",
   "metadata": {},
   "outputs": [
    {
     "name": "stdout",
     "output_type": "stream",
     "text": [
      "+-------+--------------------+\n",
      "|summary|         Call Number|\n",
      "+-------+--------------------+\n",
      "|  count|              580543|\n",
      "|   mean|2.4529878770287645E8|\n",
      "| stddev|   4548867.435147642|\n",
      "|    min|           240020004|\n",
      "|    max|           252170216|\n",
      "+-------+--------------------+\n",
      "\n"
     ]
    }
   ],
   "source": [
    "fire_df.describe([\"Call Number\"]).show()"
   ]
  },
  {
   "cell_type": "code",
   "execution_count": null,
   "id": "d299bc54",
   "metadata": {},
   "outputs": [],
   "source": []
  }
 ],
 "metadata": {
  "kernelspec": {
   "display_name": ".venv",
   "language": "python",
   "name": "python3"
  },
  "language_info": {
   "codemirror_mode": {
    "name": "ipython",
    "version": 3
   },
   "file_extension": ".py",
   "mimetype": "text/x-python",
   "name": "python",
   "nbconvert_exporter": "python",
   "pygments_lexer": "ipython3",
   "version": "3.10.10"
  }
 },
 "nbformat": 4,
 "nbformat_minor": 5
}
