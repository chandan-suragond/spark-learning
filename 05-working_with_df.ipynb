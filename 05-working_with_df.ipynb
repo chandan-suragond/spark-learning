{
 "cells": [
  {
   "cell_type": "code",
   "execution_count": 112,
   "id": "4255ed8b",
   "metadata": {},
   "outputs": [],
   "source": [
    "from pyspark.sql import *\n",
    "from pyspark.sql.functions import *\n"
   ]
  },
  {
   "cell_type": "code",
   "execution_count": 113,
   "id": "bbb747a7",
   "metadata": {},
   "outputs": [],
   "source": [
    "spark = SparkSession.builder \\\n",
    "        .appName(\"05-working_with_df\") \\\n",
    "        .master(\"local[*]\") \\\n",
    "        .getOrCreate()"
   ]
  },
  {
   "cell_type": "code",
   "execution_count": 114,
   "id": "7ef9b54e",
   "metadata": {},
   "outputs": [],
   "source": [
    "raw_fire_df = spark.read \\\n",
    "            .format(\"csv\") \\\n",
    "            .option(\"header\", True) \\\n",
    "            .option(\"inferSchema\", True) \\\n",
    "            .load(r\"C:\\Users\\chasurag\\Documents\\my repos\\Fire_Department_and_Emergency_Medical_Services_Dispatched_Calls_for_Service_20250806.csv\")"
   ]
  },
  {
   "cell_type": "code",
   "execution_count": 116,
   "id": "2a19b4f6",
   "metadata": {},
   "outputs": [
    {
     "name": "stdout",
     "output_type": "stream",
     "text": [
      "+-----------+-------+---------------+----------------+----------+----------+--------------------+--------------------+--------------------+--------------------+--------------------+--------------------+--------------------+----------------------+--------------------+--------------------+-------------+-------------------+---------+------------+----+-----------------+--------+--------------+--------+--------------------+----------------+---------+------------------------------+------------------------+-------------------+------------------------------------+--------------+--------------------+--------------------+--------------------+\n",
      "|Call Number|Unit ID|Incident Number|       Call Type| Call Date|Watch Date|       Received DtTm|          Entry DtTm|       Dispatch DtTm|       Response DtTm|       On Scene DtTm|      Transport DtTm|       Hospital DtTm|Call Final Disposition|      Available DtTm|             Address|         City|Zipcode of Incident|Battalion|Station Area| Box|Original Priority|Priority|Final Priority|ALS Unit|     Call Type Group|Number of Alarms|Unit Type|Unit sequence in call dispatch|Fire Prevention District|Supervisor District|Neighborhooods - Analysis Boundaries|         RowID|       case_location|          data_as_of|      data_loaded_at|\n",
      "+-----------+-------+---------------+----------------+----------+----------+--------------------+--------------------+--------------------+--------------------+--------------------+--------------------+--------------------+----------------------+--------------------+--------------------+-------------+-------------------+---------+------------+----+-----------------+--------+--------------+--------+--------------------+----------------+---------+------------------------------+------------------------+-------------------+------------------------------------+--------------+--------------------+--------------------+--------------------+\n",
      "|  240021037|   M595|       24000773|Medical Incident|01/02/2024|01/02/2024|01/02/2024 11:00:...|01/02/2024 11:02:...|01/02/2024 11:02:...|01/02/2024 11:05:...|01/02/2024 11:05:...|01/02/2024 11:21:...|01/02/2024 11:32:...|      Code 2 Transport|01/02/2024 12:27:...|STOCKTON ST/BROADWAY|San Francisco|            94133.0|      B01|           2|1333|                3|       2|             2|    true|Non Life-threatening|               1|    MEDIC|                             1|                       1|                  3|                           Chinatown|240021037-M595|POINT (-122.40861...|02/05/2024 03:27:...|02/05/2024 10:56:...|\n",
      "|  240020773|    E31|       24000733|          Alarms|01/02/2024|01/02/2024|01/02/2024 09:33:...|01/02/2024 09:34:...|01/02/2024 09:34:...|01/02/2024 09:35:...|01/02/2024 09:39:...|                NULL|                NULL|                  Fire|01/02/2024 09:46:...|    ANZA ST/05TH AVE|San Francisco|            94118.0|      B07|          31|7124|                3|       3|             3|    true|               Alarm|               1|   ENGINE|                             1|                       7|                  1|                      Inner Richmond| 240020773-E31|POINT (-122.46307...|02/05/2024 03:27:...|02/05/2024 10:56:...|\n",
      "+-----------+-------+---------------+----------------+----------+----------+--------------------+--------------------+--------------------+--------------------+--------------------+--------------------+--------------------+----------------------+--------------------+--------------------+-------------+-------------------+---------+------------+----+-----------------+--------+--------------+--------+--------------------+----------------+---------+------------------------------+------------------------+-------------------+------------------------------------+--------------+--------------------+--------------------+--------------------+\n",
      "only showing top 2 rows\n",
      "\n"
     ]
    }
   ],
   "source": [
    "raw_fire_df.show(2)"
   ]
  },
  {
   "cell_type": "code",
   "execution_count": 117,
   "id": "3cddbbb8",
   "metadata": {},
   "outputs": [
    {
     "name": "stdout",
     "output_type": "stream",
     "text": [
      "+----------+------+--------------+----------------+----------+----------+--------------------+--------------------+--------------------+--------------------+--------------------+--------------------+--------------------+--------------------+--------------------+--------------------+-------------+-----------------+---------+-----------+----+----------------+--------+-------------+-------+--------------------+--------------+--------+--------------------------+----------------------+------------------+--------------------------------+---------------+--------------------+--------------------+--------------------+\n",
      "|CallNumber|UnitID|IncidentNumber|        CallType|  CallDate| WatchDate|        ReceivedDtTm|           EntryDtTm|        DispatchDtTm|        ResponseDtTm|         OnSceneDtTm|       TransportDtTm|        HospitalDtTm|CallFinalDisposition|       AvailableDtTm|             Address|         City|ZipcodeofIncident|Battalion|StationArea| Box|OriginalPriority|Priority|FinalPriority|ALSUnit|       CallTypeGroup|NumberofAlarms|UnitType|Unitsequenceincalldispatch|FirePreventionDistrict|SupervisorDistrict|NeighborhooodsAnalysisBoundaries|          RowID|       case_location|          data_as_of|      data_loaded_at|\n",
      "+----------+------+--------------+----------------+----------+----------+--------------------+--------------------+--------------------+--------------------+--------------------+--------------------+--------------------+--------------------+--------------------+--------------------+-------------+-----------------+---------+-----------+----+----------------+--------+-------------+-------+--------------------+--------------+--------+--------------------------+----------------------+------------------+--------------------------------+---------------+--------------------+--------------------+--------------------+\n",
      "| 240021037|  M595|      24000773|Medical Incident|01/02/2024|01/02/2024|01/02/2024 11:00:...|01/02/2024 11:02:...|01/02/2024 11:02:...|01/02/2024 11:05:...|01/02/2024 11:05:...|01/02/2024 11:21:...|01/02/2024 11:32:...|    Code 2 Transport|01/02/2024 12:27:...|STOCKTON ST/BROADWAY|San Francisco|          94133.0|      B01|          2|1333|               3|       2|            2|   true|Non Life-threatening|             1|   MEDIC|                         1|                     1|                 3|                       Chinatown| 240021037-M595|POINT (-122.40861...|02/05/2024 03:27:...|02/05/2024 10:56:...|\n",
      "| 240020773|   E31|      24000733|          Alarms|01/02/2024|01/02/2024|01/02/2024 09:33:...|01/02/2024 09:34:...|01/02/2024 09:34:...|01/02/2024 09:35:...|01/02/2024 09:39:...|                NULL|                NULL|                Fire|01/02/2024 09:46:...|    ANZA ST/05TH AVE|San Francisco|          94118.0|      B07|         31|7124|               3|       3|            3|   true|               Alarm|             1|  ENGINE|                         1|                     7|                 1|                  Inner Richmond|  240020773-E31|POINT (-122.46307...|02/05/2024 03:27:...|02/05/2024 10:56:...|\n",
      "| 240022849|   E07|      24001015|Medical Incident|01/02/2024|01/02/2024|01/02/2024 09:09:...|01/02/2024 09:12:...|01/02/2024 09:12:...|01/02/2024 09:12:...|01/02/2024 09:14:...|                NULL|                NULL|    Code 3 Transport|01/02/2024 09:34:...|     CAPP ST/21ST ST|San Francisco|          94110.0|      B06|          7|5446|               3|       3|            3|  false|Potentially Life-...|             1|  ENGINE|                         1|                     6|                 9|                         Mission|  240022849-E07|POINT (-122.41781...|02/05/2024 03:27:...|02/05/2024 10:56:...|\n",
      "| 240021083|   B01|      24000779|          Alarms|01/02/2024|01/02/2024|01/02/2024 11:22:...|01/02/2024 11:24:...|01/02/2024 11:24:...|01/02/2024 11:26:...|01/02/2024 11:29:...|                NULL|                NULL|                Fire|01/02/2024 11:40:...|SPROULE LN/SACRAM...|San Francisco|          94108.0|      B01|         41|1414|               3|       3|            3|  false|               Alarm|             1|   CHIEF|                         2|                     1|                 3|                        Nob Hill|  240021083-B01|POINT (-122.41193...|02/05/2024 03:27:...|02/05/2024 10:56:...|\n",
      "| 240022253| SCRT7|      24000936|Medical Incident|01/02/2024|01/02/2024|01/02/2024 05:22:...|01/02/2024 05:24:...|01/02/2024 05:33:...|01/02/2024 05:33:...|01/02/2024 05:33:...|                NULL|                NULL|               Other|01/02/2024 05:51:...|LANGTON ST/DECKER...|San Francisco|          94103.0|      B03|          1|2313|               E|       E|            3|  false|Potentially Life-...|             1|      CP|                         1|                     2|                 6|                 South of Market|240022253-SCRT7|POINT (-122.40804...|02/05/2024 03:27:...|02/05/2024 10:56:...|\n",
      "+----------+------+--------------+----------------+----------+----------+--------------------+--------------------+--------------------+--------------------+--------------------+--------------------+--------------------+--------------------+--------------------+--------------------+-------------+-----------------+---------+-----------+----+----------------+--------+-------------+-------+--------------------+--------------+--------+--------------------------+----------------------+------------------+--------------------------------+---------------+--------------------+--------------------+--------------------+\n",
      "only showing top 5 rows\n",
      "\n"
     ]
    }
   ],
   "source": [
    "# renamed_fire_df = raw_fire_df \\\n",
    "#     .withColumnRenamed(\"Call Number\", 'callnumber') \\\n",
    "#     .withColumnRenamed('Unit Id', 'unitid')\n",
    "\n",
    "renamed_fire_df = raw_fire_df \\\n",
    "    .withColumnsRenamed({\"Call Number\":\"CallNumber\", \"Unit ID\":\"UnitID\", \"Incident Number\":\"IncidentNumber\", \"Call Type\":\"CallType\", \"Call Date\":\"CallDate\", \"Watch Date\":\"WatchDate\", \"Received DtTm\":\"ReceivedDtTm\", \"Entry DtTm\":\"EntryDtTm\", \"Dispatch DtTm\":\"DispatchDtTm\", \"Response DtTm\":\"ResponseDtTm\", \"On Scene DtTm\":\"OnSceneDtTm\", \"Transport DtTm\":\"TransportDtTm\", \"Hospital DtTm\":\"HospitalDtTm\", \"Call Final Disposition\":\"CallFinalDisposition\", \"Available DtTm\":\"AvailableDtTm\", \"Address\":\"Address\", \"City\":\"City\", \"Zipcode of Incident\":\"ZipcodeofIncident\", \"Battalion\":\"Battalion\", \"Station Area\":\"StationArea\", \"Box\":\"Box\", \"Original Priority\":\"OriginalPriority\", \"Priority\":\"Priority\", \"Final Priority\":\"FinalPriority\", \"ALS Unit\":\"ALSUnit\", \"Call Type Group\":\"CallTypeGroup\", \"Number of Alarms\":\"NumberofAlarms\", \"Unit Type\":\"UnitType\", \"Unit sequence in call dispatch\":\"Unitsequenceincalldispatch\", \"Fire Prevention District\":\"FirePreventionDistrict\", \"Supervisor District\":\"SupervisorDistrict\", \"Neighborhooods - Analysis Boundaries\":\"NeighborhooodsAnalysisBoundaries\", \"RowID\":\"RowID\", \"case_location\":\"case_location\", \"data_as_of\":\"data_as_of\", \"data_loaded_at\":\"data_loaded_at\"})\n",
    "\n",
    "renamed_fire_df.show(5)"
   ]
  },
  {
   "cell_type": "code",
   "execution_count": 118,
   "id": "ead190fb",
   "metadata": {},
   "outputs": [
    {
     "name": "stdout",
     "output_type": "stream",
     "text": [
      "root\n",
      " |-- CallNumber: integer (nullable = true)\n",
      " |-- UnitID: string (nullable = true)\n",
      " |-- IncidentNumber: integer (nullable = true)\n",
      " |-- CallType: string (nullable = true)\n",
      " |-- CallDate: date (nullable = true)\n",
      " |-- WatchDate: date (nullable = true)\n",
      " |-- ReceivedDtTm: timestamp (nullable = true)\n",
      " |-- EntryDtTm: timestamp (nullable = true)\n",
      " |-- DispatchDtTm: timestamp (nullable = true)\n",
      " |-- ResponseDtTm: timestamp (nullable = true)\n",
      " |-- OnSceneDtTm: timestamp (nullable = true)\n",
      " |-- TransportDtTm: timestamp (nullable = true)\n",
      " |-- HospitalDtTm: timestamp (nullable = true)\n",
      " |-- CallFinalDisposition: string (nullable = true)\n",
      " |-- AvailableDtTm: timestamp (nullable = true)\n",
      " |-- Address: string (nullable = true)\n",
      " |-- City: string (nullable = true)\n",
      " |-- ZipcodeofIncident: double (nullable = true)\n",
      " |-- Battalion: string (nullable = true)\n",
      " |-- StationArea: integer (nullable = true)\n",
      " |-- Box: string (nullable = true)\n",
      " |-- OriginalPriority: string (nullable = true)\n",
      " |-- Priority: string (nullable = true)\n",
      " |-- FinalPriority: integer (nullable = true)\n",
      " |-- ALSUnit: boolean (nullable = true)\n",
      " |-- CallTypeGroup: string (nullable = true)\n",
      " |-- NumberofAlarms: integer (nullable = true)\n",
      " |-- UnitType: string (nullable = true)\n",
      " |-- Unitsequenceincalldispatch: integer (nullable = true)\n",
      " |-- FirePreventionDistrict: string (nullable = true)\n",
      " |-- SupervisorDistrict: string (nullable = true)\n",
      " |-- NeighborhooodsAnalysisBoundaries: string (nullable = true)\n",
      " |-- RowID: string (nullable = true)\n",
      " |-- case_location: string (nullable = true)\n",
      " |-- data_as_of: string (nullable = true)\n",
      " |-- data_loaded_at: string (nullable = true)\n",
      "\n"
     ]
    }
   ],
   "source": [
    "temp_fire_df = renamed_fire_df \\\n",
    "            .withColumn('CallDate', to_date('CallDate', 'MM/dd/yyyy')) \\\n",
    "            .withColumn('WatchDate', to_date('WatchDate', 'MM/dd/yyyy')) \\\n",
    "            .withColumn('ReceivedDtTm', to_timestamp('ReceivedDtTm', 'MM/dd/yyyy hh:mm:ss a')) \\\n",
    "            .withColumn('EntryDtTm', to_timestamp('EntryDtTm', 'MM/dd/yyyy hh:mm:ss a')) \\\n",
    "            .withColumn('DispatchDtTm', to_timestamp('DispatchDtTm', 'MM/dd/yyyy hh:mm:ss a')) \\\n",
    "            .withColumn('ResponseDtTm', to_timestamp('ResponseDtTm', 'MM/dd/yyyy hh:mm:ss a')) \\\n",
    "            .withColumn('OnSceneDtTm', to_timestamp('OnSceneDtTm', 'MM/dd/yyyy hh:mm:ss a')) \\\n",
    "            .withColumn('TransportDtTm', to_timestamp('TransportDtTm', 'MM/dd/yyyy hh:mm:ss a')) \\\n",
    "            .withColumn('HospitalDtTm', to_timestamp('HospitalDtTm', 'MM/dd/yyyy hh:mm:ss a')) \\\n",
    "            .withColumn('AvailableDtTm', to_timestamp('AvailableDtTm', 'MM/dd/yyyy hh:mm:ss a'))\n",
    "\n",
    "temp_fire_df.printSchema()"
   ]
  },
  {
   "cell_type": "code",
   "execution_count": 119,
   "id": "d0f3918f",
   "metadata": {},
   "outputs": [
    {
     "name": "stdout",
     "output_type": "stream",
     "text": [
      "+-----+\n",
      "|delay|\n",
      "+-----+\n",
      "|  4.9|\n",
      "|  2.5|\n",
      "|  2.6|\n",
      "|  4.2|\n",
      "| 11.3|\n",
      "+-----+\n",
      "only showing top 5 rows\n",
      "\n"
     ]
    }
   ],
   "source": [
    "fire_df = temp_fire_df.withColumn(\"delay\", \n",
    "                                     (unix_timestamp(col('responsedttm')) - unix_timestamp(col('ReceivedDtTm'))) / 60 ) \\\n",
    "                                     .withColumn('delay', round('delay', 1))\n",
    "\n",
    "\n",
    "fire_df.select('delay').show(5)"
   ]
  },
  {
   "cell_type": "code",
   "execution_count": 53,
   "id": "16a7e9c0",
   "metadata": {},
   "outputs": [
    {
     "data": {
      "text/plain": [
       "DataFrame[CallNumber: int, UnitID: string, IncidentNumber: int, CallType: string, CallDate: date, WatchDate: date, ReceivedDtTm: timestamp, EntryDtTm: timestamp, DispatchDtTm: timestamp, ResponseDtTm: timestamp, OnSceneDtTm: timestamp, TransportDtTm: timestamp, HospitalDtTm: timestamp, CallFinalDisposition: string, AvailableDtTm: timestamp, Address: string, City: string, ZipcodeofIncident: double, Battalion: string, StationArea: int, Box: string, OriginalPriority: string, Priority: string, FinalPriority: int, ALSUnit: boolean, CallTypeGroup: string, NumberofAlarms: int, UnitType: string, Unitsequenceincalldispatch: int, FirePreventionDistrict: string, SupervisorDistrict: string, NeighborhooodsAnalysisBoundaries: string, RowID: string, case_location: string, data_as_of: string, data_loaded_at: string, delay: double]"
      ]
     },
     "execution_count": 53,
     "metadata": {},
     "output_type": "execute_result"
    }
   ],
   "source": [
    "fire_df.cache()"
   ]
  },
  {
   "cell_type": "code",
   "execution_count": null,
   "id": "9626d29b",
   "metadata": {},
   "outputs": [],
   "source": [
    "## Q1. How many distinct types of calls were made to the Fire Department?\n",
    "\n",
    "# select count(distinct CallType) as distinct_call_type_count\n",
    "# from fire_service_calls_tbl\n",
    "# where CallType is not null\n"
   ]
  },
  {
   "cell_type": "code",
   "execution_count": 57,
   "id": "a5f2fa50",
   "metadata": {},
   "outputs": [
    {
     "data": {
      "text/plain": [
       "30"
      ]
     },
     "execution_count": 57,
     "metadata": {},
     "output_type": "execute_result"
    }
   ],
   "source": [
    "q1_df = fire_df.where('calltype is not null') \\\n",
    "                .select('calltype') \\\n",
    "                .distinct()\n",
    "\n",
    "q1_df.count()"
   ]
  },
  {
   "cell_type": "code",
   "execution_count": 58,
   "id": "ec51e535",
   "metadata": {},
   "outputs": [],
   "source": [
    "## Q2. What were distinct types of calls made to the Fire Department?\n",
    "\n",
    "# select distinct CallType as distinct_call_types\n",
    "# from fire_service_calls_tbl\n",
    "# where CallType is not null\n"
   ]
  },
  {
   "cell_type": "code",
   "execution_count": 64,
   "id": "53fbcdf6",
   "metadata": {},
   "outputs": [
    {
     "name": "stdout",
     "output_type": "stream",
     "text": [
      "+--------------------------------------------+\n",
      "|distinct_call_type                          |\n",
      "+--------------------------------------------+\n",
      "|Elevator / Escalator Rescue                 |\n",
      "|Structure Fire / Smoke in Building          |\n",
      "|Administrative                              |\n",
      "|Alarms                                      |\n",
      "|Odor (Strange / Unknown)                    |\n",
      "|Citizen Assist / Service Call               |\n",
      "|HazMat                                      |\n",
      "|Watercraft in Distress                      |\n",
      "|Explosion                                   |\n",
      "|Vehicle Fire                                |\n",
      "|Extrication / Entrapped (Machinery, Vehicle)|\n",
      "|Other                                       |\n",
      "|Outside Fire                                |\n",
      "|Traffic Collision                           |\n",
      "|Assist Police                               |\n",
      "|Gas Leak (Natural and LP Gases)             |\n",
      "|Water Rescue                                |\n",
      "|Electrical Hazard                           |\n",
      "|Industrial Accidents                        |\n",
      "|Medical Incident                            |\n",
      "+--------------------------------------------+\n",
      "only showing top 20 rows\n",
      "\n"
     ]
    }
   ],
   "source": [
    "q2_df = fire_df.where('calltype is not null') \\\n",
    "                .select(expr('calltype as distinct_call_type')) \\\n",
    "                .distinct()\n",
    "\n",
    "q2_df.show(truncate=False)"
   ]
  },
  {
   "cell_type": "code",
   "execution_count": 61,
   "id": "f42e185f",
   "metadata": {},
   "outputs": [],
   "source": [
    "## Q3. Find out all response for delayed times greater than 5 mins?\n",
    "\n",
    "# select CallNumber, Delay\n",
    "# from fire_service_calls_tbl\n",
    "# where Delay > 5"
   ]
  },
  {
   "cell_type": "code",
   "execution_count": 65,
   "id": "a54a44be",
   "metadata": {},
   "outputs": [
    {
     "name": "stdout",
     "output_type": "stream",
     "text": [
      "+----------+---------+\n",
      "|callnumber|delay_min|\n",
      "+----------+---------+\n",
      "| 240022253|     11.3|\n",
      "| 240020144|      5.1|\n",
      "| 240021192|     10.0|\n",
      "| 240021851|      6.5|\n",
      "| 240020098|      5.5|\n",
      "| 240022004|      5.4|\n",
      "| 240020492|     12.6|\n",
      "| 240021429|     10.8|\n",
      "| 240020464|      6.1|\n",
      "| 240021366|      6.7|\n",
      "| 240020201|      5.2|\n",
      "| 240022622|      7.0|\n",
      "| 240020889|     32.8|\n",
      "| 240022175|     12.5|\n",
      "| 240022317|      6.5|\n",
      "| 240022409|      5.7|\n",
      "| 240022312|      5.2|\n",
      "| 240021201|      5.8|\n",
      "| 240021956|     20.3|\n",
      "| 240021868|      5.4|\n",
      "+----------+---------+\n",
      "only showing top 20 rows\n",
      "\n"
     ]
    }
   ],
   "source": [
    "q3_df = fire_df.where('delay > 5') \\\n",
    "                .select('callnumber', expr('delay as delay_min'))\n",
    "\n",
    "q3_df.show()"
   ]
  },
  {
   "cell_type": "code",
   "execution_count": 66,
   "id": "cfcb94d1",
   "metadata": {},
   "outputs": [],
   "source": [
    "## Q4. What were the most common call types?\n",
    "\n",
    "# select CallType, count(*) as count\n",
    "# from fire_service_calls_tbl\n",
    "# where CallType is not null\n",
    "# group by CallType\n",
    "# order by count desc\n"
   ]
  },
  {
   "cell_type": "code",
   "execution_count": null,
   "id": "046a6eca",
   "metadata": {},
   "outputs": [
    {
     "name": "stdout",
     "output_type": "stream",
     "text": [
      "+--------------------+------+\n",
      "|            calltype| count|\n",
      "+--------------------+------+\n",
      "|    Medical Incident|390175|\n",
      "|              Alarms| 82230|\n",
      "|Structure Fire / ...| 29152|\n",
      "|   Traffic Collision| 18883|\n",
      "|               Other| 18365|\n",
      "|Citizen Assist / ...| 12426|\n",
      "|        Outside Fire| 11371|\n",
      "|Gas Leak (Natural...|  4460|\n",
      "|        Water Rescue|  3343|\n",
      "|   Electrical Hazard|  3077|\n",
      "|Elevator / Escala...|  1954|\n",
      "|        Vehicle Fire|  1602|\n",
      "|Smoke Investigati...|  1206|\n",
      "|Odor (Strange / U...|   430|\n",
      "|          Fuel Spill|   387|\n",
      "|      Administrative|   184|\n",
      "|Extrication / Ent...|   174|\n",
      "|Train / Rail Inci...|   152|\n",
      "|           Explosion|   139|\n",
      "|              HazMat|   130|\n",
      "+--------------------+------+\n",
      "only showing top 20 rows\n",
      "\n"
     ]
    }
   ],
   "source": [
    "q4_df = fire_df.where('calltype is not null') \\\n",
    "                .select('calltype') \\\n",
    "                .groupBy('calltype') \\\n",
    "                .count() \\\n",
    "                .orderBy('count', ascending=False)\n",
    "\n",
    "q4_df.show()"
   ]
  },
  {
   "cell_type": "code",
   "execution_count": 78,
   "id": "e09e1552",
   "metadata": {},
   "outputs": [],
   "source": [
    "## Q5. What zip codes accounted for most common calls?\n",
    "\n",
    "# select CallType, ZipCode, count(*) as count\n",
    "# from fire_service_calls_tbl\n",
    "# where CallType is not null\n",
    "# group by CallType, Zipcode\n",
    "# order by count desc\n"
   ]
  },
  {
   "cell_type": "code",
   "execution_count": 104,
   "id": "407e84da",
   "metadata": {},
   "outputs": [
    {
     "name": "stdout",
     "output_type": "stream",
     "text": [
      "+----------------+-------+-----+\n",
      "|        calltype|zipcode|count|\n",
      "+----------------+-------+-----+\n",
      "|Medical Incident|  94103|65937|\n",
      "|Medical Incident|  94102|54461|\n",
      "|Medical Incident|  94109|41521|\n",
      "|Medical Incident|  94110|29729|\n",
      "|Medical Incident|  94124|19160|\n",
      "|Medical Incident|  94112|17418|\n",
      "|Medical Incident|  94115|14116|\n",
      "|Medical Incident|  94107|12661|\n",
      "|Medical Incident|  94122|12412|\n",
      "|          Alarms|  94102|10765|\n",
      "|Medical Incident|  94133|10722|\n",
      "|Medical Incident|  94105|10700|\n",
      "|Medical Incident|  94114|10096|\n",
      "|Medical Incident|  94117| 9853|\n",
      "|          Alarms|  94103| 9816|\n",
      "|Medical Incident|  94134| 9734|\n",
      "|Medical Incident|  94118| 9219|\n",
      "|          Alarms|  94109| 9120|\n",
      "|Medical Incident|  94132| 8488|\n",
      "|Medical Incident|  94116| 8377|\n",
      "+----------------+-------+-----+\n",
      "only showing top 20 rows\n",
      "\n"
     ]
    }
   ],
   "source": [
    "fire_df.select('calltype', expr('cast(ZipcodeofIncident as int) as zipcode')) \\\n",
    "        .where('calltype is not null') \\\n",
    "        .groupBy('calltype', 'zipcode') \\\n",
    "        .count() \\\n",
    "        .orderBy('count', ascending = False) \\\n",
    "        .show()"
   ]
  },
  {
   "cell_type": "code",
   "execution_count": 86,
   "id": "f2710e3d",
   "metadata": {},
   "outputs": [],
   "source": [
    "## Q6. What San Francisco neighborhoods are in the zip codes 94102 and 94103\n",
    "\n",
    "# select distinct Neighborhood, Zipcode\n",
    "# from fire_service_calls_tbl\n",
    "# where Zipcode== 94102 or Zipcode == 94103\n"
   ]
  },
  {
   "cell_type": "code",
   "execution_count": 93,
   "id": "10fe6589",
   "metadata": {},
   "outputs": [
    {
     "name": "stdout",
     "output_type": "stream",
     "text": [
      "+--------------------------+-------+\n",
      "|address                   |zipcode|\n",
      "+--------------------------+-------+\n",
      "|JESSIE ST/MINT PLZ/MINT ST|94103  |\n",
      "|OCTAVIA ST/HAYES ST       |94102  |\n",
      "|VERMONT ST/DIVISION ST    |94103  |\n",
      "|TAYLOR ST/OPAL PL         |94102  |\n",
      "|TEHAMA ST/08TH ST         |94103  |\n",
      "|ROSE ST/GOUGH ST          |94102  |\n",
      "|08TH ST/MISSION ST        |94103  |\n",
      "|HAYES ST/GOUGH ST         |94102  |\n",
      "|FRANKLIN ST/FULTON ST     |94102  |\n",
      "|VALENCIA ST/16TH ST       |94103  |\n",
      "|VALENCIA ST/CLINTON PARK  |94103  |\n",
      "|LAFAYETTE ST/MINNA ST     |94103  |\n",
      "|OAK ST/BUCHANAN ST        |94102  |\n",
      "|11TH ST/KISSLING ST       |94103  |\n",
      "|PAGE ST/LAGUNA ST         |94102  |\n",
      "|NATOMA ST/08TH ST         |94103  |\n",
      "|FULTON ST/LAGUNA ST       |94102  |\n",
      "|TRAINOR ST/14TH ST        |94103  |\n",
      "|BRYANT ST/LANGTON ST      |94103  |\n",
      "|CLINTON PARK/DOLORES ST   |94103  |\n",
      "+--------------------------+-------+\n",
      "only showing top 20 rows\n",
      "\n"
     ]
    }
   ],
   "source": [
    "# fire_df.where('zipcodeofincident in (94102, 94103)') \\\n",
    "#         .select('address', col('zipcodeofincident').cast('int').alias('zipcode')) \\\n",
    "#         .distinct() \\\n",
    "#         .show(truncate = False)\n",
    "\n",
    "# or\n",
    "\n",
    "fire_df.where('zipcodeofincident == 94102 or zipcodeofincident == 94103') \\\n",
    "        .select('address', col('zipcodeofincident').cast('int').alias('zipcode')) \\\n",
    "        .distinct() \\\n",
    "        .show(truncate = False)"
   ]
  },
  {
   "cell_type": "code",
   "execution_count": 94,
   "id": "b9badd0f",
   "metadata": {},
   "outputs": [],
   "source": [
    "## Q7. What was the sum of all calls, average, min and max of the response times for calls?\n",
    "\n",
    "# select sum(NumAlarms), avg(Delay), min(Delay), max(Delay)\n",
    "# from fire_service_calls_tbl\n"
   ]
  },
  {
   "cell_type": "code",
   "execution_count": 100,
   "id": "cd6be309",
   "metadata": {},
   "outputs": [
    {
     "name": "stdout",
     "output_type": "stream",
     "text": [
      "+------------+----------------+-------------+-------------+\n",
      "|Total Alarms|   Average Delay|Minimum Delay|Maximum Delay|\n",
      "+------------+----------------+-------------+-------------+\n",
      "|      581330|5.15148044915186|        -90.1|      10385.6|\n",
      "+------------+----------------+-------------+-------------+\n",
      "\n"
     ]
    }
   ],
   "source": [
    "fire_df.select(\n",
    "        sum('NumberofAlarms').alias('Total Alarms'), \n",
    "        avg('delay').alias('Average Delay'), \n",
    "        min('delay').alias('Minimum Delay'), \n",
    "        max('delay').alias(\"Maximum Delay\")\n",
    "        ).show()"
   ]
  },
  {
   "cell_type": "code",
   "execution_count": 102,
   "id": "ac874062",
   "metadata": {},
   "outputs": [],
   "source": [
    "## Q8. How many distinct years of data is in the CSV file?\n",
    "\n",
    "# select distinct year(to_timestamp(CallDate, \"MM/dd/yyyy\")) as year_num\n",
    "# from fire_service_calls_tbl\n",
    "# order by year_num"
   ]
  },
  {
   "cell_type": "code",
   "execution_count": 103,
   "id": "b9ac6f34",
   "metadata": {},
   "outputs": [
    {
     "name": "stdout",
     "output_type": "stream",
     "text": [
      "+-----------------+\n",
      "|year_of_call_date|\n",
      "+-----------------+\n",
      "|             2024|\n",
      "|             2025|\n",
      "+-----------------+\n",
      "\n"
     ]
    }
   ],
   "source": [
    "fire_df.select(year('calldate').alias('year_of_call_date')) \\\n",
    "        .distinct() \\\n",
    "        .orderBy('year_of_call_date') \\\n",
    "        .show()"
   ]
  },
  {
   "cell_type": "code",
   "execution_count": 105,
   "id": "d9e1652a",
   "metadata": {},
   "outputs": [],
   "source": [
    "## Q9. What week of the year in 2018 had the most fire calls?\n",
    "\n",
    "# select weekofyear(to_timestamp(CallDate, \"MM/dd/yyyy\")) week_year, count(*) as count\n",
    "# from fire_service_calls_tbl \n",
    "# where year(to_timestamp(CallDate, \"MM/dd/yyyy\")) == 2018\n",
    "# group by week_year\n",
    "# order by count desc"
   ]
  },
  {
   "cell_type": "code",
   "execution_count": 107,
   "id": "0f8696d2",
   "metadata": {},
   "outputs": [
    {
     "name": "stdout",
     "output_type": "stream",
     "text": [
      "+---------+-----+\n",
      "|week_year|count|\n",
      "+---------+-----+\n",
      "|        6| 8278|\n",
      "|        7| 7786|\n",
      "|        3| 7630|\n",
      "|        4| 7495|\n",
      "|        2| 7376|\n",
      "|        5| 7299|\n",
      "|        9| 7157|\n",
      "|       11| 7149|\n",
      "|       13| 7133|\n",
      "|       14| 7051|\n",
      "|       26| 7032|\n",
      "|        8| 7028|\n",
      "|       18| 6998|\n",
      "|       19| 6987|\n",
      "|       21| 6982|\n",
      "|       16| 6961|\n",
      "|       27| 6944|\n",
      "|       23| 6929|\n",
      "|       22| 6879|\n",
      "|       12| 6834|\n",
      "+---------+-----+\n",
      "only showing top 20 rows\n",
      "\n"
     ]
    }
   ],
   "source": [
    "fire_df.where(year('calldate') == 2025) \\\n",
    "        .select(weekofyear('calldate').alias('week_year')) \\\n",
    "        .groupBy('week_year') \\\n",
    "        .count() \\\n",
    "        .orderBy('count', ascending = False) \\\n",
    "        .show()"
   ]
  },
  {
   "cell_type": "code",
   "execution_count": 108,
   "id": "7835d591",
   "metadata": {},
   "outputs": [],
   "source": [
    "## Q10. What neighborhoods in San Francisco had the worst response time in 2018?\n",
    "\n",
    "# select Neighborhood, Delay\n",
    "# from fire_service_calls_tbl \n",
    "# where year(to_timestamp(CallDate, \"MM/dd/yyyy\")) == 2018\n"
   ]
  },
  {
   "cell_type": "code",
   "execution_count": 111,
   "id": "b6ba22b6",
   "metadata": {},
   "outputs": [
    {
     "name": "stdout",
     "output_type": "stream",
     "text": [
      "+-----------------------------+-------+\n",
      "|address                      |delay  |\n",
      "+-----------------------------+-------+\n",
      "|CALL BOX: 2310 FOLSOM ST,SF  |10385.6|\n",
      "|CALL BOX: 2310 FOLSOM ST,SF  |10385.6|\n",
      "|CALL BOX: BUCHANAN ST/TURK ST|10099.8|\n",
      "|CALL BOX: BUCHANAN ST/TURK ST|10097.9|\n",
      "|CALL BOX: 2310 FOLSOM ST,SF  |5836.2 |\n",
      "|CALL BOX: 6TH ST/MISSION ST  |2592.4 |\n",
      "|CALL BOX: 6TH ST/MISSION ST  |2340.8 |\n",
      "|CALL BOX: 6TH ST/MISSION ST  |2340.5 |\n",
      "|CALL BOX: 6TH ST/MISSION ST  |2120.0 |\n",
      "|CALL BOX: 6TH ST/MISSION ST  |1911.4 |\n",
      "|CALL BOX: 6TH ST/MISSION ST  |1444.3 |\n",
      "|CALL BOX: 6TH ST/MISSION ST  |1420.3 |\n",
      "|CALL BOX: 6TH ST/MISSION ST  |1397.3 |\n",
      "|CALL BOX: 6TH ST/MISSION ST  |1396.8 |\n",
      "|CALL BOX: 6TH ST/MARKET ST   |1391.0 |\n",
      "|CALL BOX: 6TH ST/MARKET ST   |1385.9 |\n",
      "|CALL BOX: 6TH ST/MISSION ST  |1347.3 |\n",
      "|CALL BOX: 6TH ST/MISSION ST  |1314.6 |\n",
      "|CALL BOX: 6TH ST/MISSION ST  |1311.1 |\n",
      "|CALL BOX: 6TH ST/MISSION ST  |1300.7 |\n",
      "+-----------------------------+-------+\n",
      "only showing top 20 rows\n",
      "\n"
     ]
    }
   ],
   "source": [
    "fire_df.where(year(col('calldate')) == 2025) \\\n",
    "        .select('address', 'delay') \\\n",
    "        .orderBy('delay', ascending = False) \\\n",
    "        .show(truncate = False)"
   ]
  }
 ],
 "metadata": {
  "kernelspec": {
   "display_name": ".venv",
   "language": "python",
   "name": "python3"
  },
  "language_info": {
   "codemirror_mode": {
    "name": "ipython",
    "version": 3
   },
   "file_extension": ".py",
   "mimetype": "text/x-python",
   "name": "python",
   "nbconvert_exporter": "python",
   "pygments_lexer": "ipython3",
   "version": "3.10.10"
  }
 },
 "nbformat": 4,
 "nbformat_minor": 5
}
