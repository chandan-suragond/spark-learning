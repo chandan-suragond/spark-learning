{
 "cells": [
  {
   "cell_type": "code",
   "execution_count": 2,
   "id": "864ab285",
   "metadata": {},
   "outputs": [],
   "source": [
    "import pyspark\n",
    "from pyspark.sql import *\n",
    "from pyspark.sql.functions import *\n"
   ]
  },
  {
   "cell_type": "code",
   "execution_count": 3,
   "id": "f6d70e53",
   "metadata": {},
   "outputs": [],
   "source": [
    "spark = SparkSession.builder \\\n",
    "            .master('local[*]') \\\n",
    "            .appName('testing_misc_functions') \\\n",
    "            .getOrCreate()"
   ]
  },
  {
   "cell_type": "code",
   "execution_count": 7,
   "id": "56f06399",
   "metadata": {},
   "outputs": [
    {
     "name": "stdout",
     "output_type": "stream",
     "text": [
      "+-----+---+-----+----+\n",
      "| name|day|month|year|\n",
      "+-----+---+-----+----+\n",
      "| John| 12|   12|   6|\n",
      "| Rosy|  7|    8|  63|\n",
      "|Abdul| 23|    5|  81|\n",
      "| Ravi| 28|    1|2002|\n",
      "|Abdul| 23|    5|  81|\n",
      "+-----+---+-----+----+\n",
      "\n",
      "root\n",
      " |-- name: string (nullable = true)\n",
      " |-- day: string (nullable = true)\n",
      " |-- month: string (nullable = true)\n",
      " |-- year: string (nullable = true)\n",
      "\n"
     ]
    }
   ],
   "source": [
    "data_list = [(\"Ravi\", \"28\", \"1\", \"2002\"),\n",
    "             (\"Abdul\", \"23\", \"5\", \"81\"), # 1981\n",
    "             (\"John\", \"12\", \"12\", \"6\"), # 2006\n",
    "             (\"Rosy\", \"7\", \"8\", \"63\"), # 1963\n",
    "             (\"Abdul\", \"23\", \"5\", \"81\") # 1981\n",
    "            ]\n",
    "\n",
    "raw_df = spark.createDataFrame(data_list, ['name', 'day', 'month', 'year']).repartition(3)\n",
    "raw_df.show(10)\n",
    "raw_df.printSchema()"
   ]
  },
  {
   "cell_type": "code",
   "execution_count": 16,
   "id": "36f78550",
   "metadata": {},
   "outputs": [
    {
     "name": "stdout",
     "output_type": "stream",
     "text": [
      "+-----+---+-----+----+-----------+\n",
      "| name|day|month|year|         id|\n",
      "+-----+---+-----+----+-----------+\n",
      "| John| 12|   12|   6|          0|\n",
      "| Rosy|  7|    8|  63|          1|\n",
      "|Abdul| 23|    5|  81|          2|\n",
      "| Ravi| 28|    1|2002|17179869184|\n",
      "|Abdul| 23|    5|  81|17179869185|\n",
      "+-----+---+-----+----+-----------+\n",
      "\n",
      "root\n",
      " |-- name: string (nullable = true)\n",
      " |-- day: integer (nullable = true)\n",
      " |-- month: integer (nullable = true)\n",
      " |-- year: integer (nullable = true)\n",
      " |-- id: long (nullable = false)\n",
      "\n"
     ]
    }
   ],
   "source": [
    "df_with_id = raw_df.withColumn('id', monotonically_increasing_id()) \\\n",
    "                    .withColumn('year',col('year').cast('int')) \\\n",
    "                    .withColumn('day', col('day').cast('int')) \\\n",
    "                    .withColumn('month', col('month').cast('int'))\n",
    "df_with_id.show()\n",
    "df_with_id.printSchema()"
   ]
  },
  {
   "cell_type": "code",
   "execution_count": null,
   "id": "e3836bed",
   "metadata": {},
   "outputs": [
    {
     "name": "stdout",
     "output_type": "stream",
     "text": [
      "+-----+---+-----+----+-----------+\n",
      "| name|day|month|year|         id|\n",
      "+-----+---+-----+----+-----------+\n",
      "| John| 12|   12|2006|          0|\n",
      "| Rosy|  7|    8|1963|          1|\n",
      "|Abdul| 23|    5|1981|          2|\n",
      "| Ravi| 28|    1|2002|17179869184|\n",
      "|Abdul| 23|    5|1981|17179869185|\n",
      "+-----+---+-----+----+-----------+\n",
      "\n"
     ]
    }
   ],
   "source": [
    "#implementing case statement using SQL expressions\n",
    "df_with_id.withColumn('year', \\\n",
    "                        expr('''\n",
    "                                case when year < 21 then year + 2000\n",
    "                                    when year < 100 then year + 1900\n",
    "                                    else year\n",
    "                                end\n",
    "                            ''')\n",
    "                    ).show()"
   ]
  },
  {
   "cell_type": "code",
   "execution_count": 24,
   "id": "8eb57a25",
   "metadata": {},
   "outputs": [
    {
     "name": "stdout",
     "output_type": "stream",
     "text": [
      "+-----+---+-----+----+-----------+\n",
      "| name|day|month|year|         id|\n",
      "+-----+---+-----+----+-----------+\n",
      "| John| 12|   12|2006|          0|\n",
      "| Rosy|  7|    8|1963|          1|\n",
      "|Abdul| 23|    5|1981|          2|\n",
      "| Ravi| 28|    1|2002|17179869184|\n",
      "|Abdul| 23|    5|1981|17179869185|\n",
      "+-----+---+-----+----+-----------+\n",
      "\n"
     ]
    }
   ],
   "source": [
    "#implementing case statement using column object expressions\n",
    "df_with_year = df_with_id.withColumn('year', \\\n",
    "                        when(col('year') < 21, col('year') + 2000). \\\n",
    "                        when(col('year') < 100, col('year') + 1900). \\\n",
    "                        otherwise(col('year'))\n",
    "                    )\n",
    "\n",
    "df_with_year.show()"
   ]
  },
  {
   "cell_type": "code",
   "execution_count": 45,
   "id": "667eb0d6",
   "metadata": {},
   "outputs": [
    {
     "name": "stdout",
     "output_type": "stream",
     "text": [
      "+-----+-----------+----------+\n",
      "| name|         id|       dob|\n",
      "+-----+-----------+----------+\n",
      "| John|          0|2006-12-12|\n",
      "| Ravi|17179869184|2002-01-28|\n",
      "|Abdul|          2|1981-05-23|\n",
      "| Rosy|          1|1963-08-07|\n",
      "+-----+-----------+----------+\n",
      "\n",
      "root\n",
      " |-- name: string (nullable = true)\n",
      " |-- id: long (nullable = false)\n",
      " |-- dob: date (nullable = true)\n",
      "\n",
      "+-----+-----------+----------+\n",
      "| name|         id|       dob|\n",
      "+-----+-----------+----------+\n",
      "| John|          0|2006-12-12|\n",
      "| Ravi|17179869184|2002-01-28|\n",
      "|Abdul|          2|1981-05-23|\n",
      "|Abdul|17179869185|1981-05-23|\n",
      "| Rosy|          1|1963-08-07|\n",
      "+-----+-----------+----------+\n",
      "\n"
     ]
    }
   ],
   "source": [
    "df_with_dob = df_with_year.withColumn('dob', \\\n",
    "                                      expr(\"to_date(concat(day, '/', month, '/', year), 'd/M/yyyy')\")) \\\n",
    "                            .drop('day', 'month', 'year') \\\n",
    "                            .dropDuplicates(['name', 'dob']) \\\n",
    "                            .orderBy(col('dob').desc()) \n",
    "\n",
    "#you can also use distinct but you can't specify the columns on which you want distinct \n",
    "\n",
    "#you are telling Spark how to interpret (parse) the input string, not how to display the output.\n",
    "#for the format specification, you use date_format function\n",
    "df_with_dob.show()\n",
    "df_with_dob.printSchema()\n",
    "# when there are multiple rows with same dob while sorting with dob in desc, then I want to sort using id in asc order\n",
    "df_with_year.withColumn('dob', \\\n",
    "                        expr(\"to_date(concat(day, '/', month, '/', year), 'd/M/yyyy')\")) \\\n",
    "            .drop('day', 'month', 'year') \\\n",
    "            .orderBy(col('dob').desc(), col('id').asc()) \\\n",
    "            .show()"
   ]
  },
  {
   "cell_type": "code",
   "execution_count": 51,
   "id": "8c9b1127",
   "metadata": {},
   "outputs": [
    {
     "name": "stdout",
     "output_type": "stream",
     "text": [
      "+-----+-----------+----------+\n",
      "| name|         id|       dob|\n",
      "+-----+-----------+----------+\n",
      "| John|          0|2006-12-12|\n",
      "| Ravi|17179869184|2002-01-28|\n",
      "|Abdul|          2|1981-05-23|\n",
      "|Abdul|17179869185|1981-05-23|\n",
      "| Rosy|          1|1963-08-07|\n",
      "+-----+-----------+----------+\n",
      "\n"
     ]
    }
   ],
   "source": [
    "df_with_year.withColumn('dob', \\\n",
    "                        expr(\"to_date(concat(day, '/', month, '/', year), 'd/M/yyyy')\")) \\\n",
    "            .drop('day', 'month', 'year') \\\n",
    "            .sort('dob', 'id', ascending = [False, True]) \\\n",
    "            .show()"
   ]
  },
  {
   "cell_type": "code",
   "execution_count": null,
   "id": "01d5824d",
   "metadata": {},
   "outputs": [],
   "source": []
  }
 ],
 "metadata": {
  "kernelspec": {
   "display_name": ".venv",
   "language": "python",
   "name": "python3"
  },
  "language_info": {
   "codemirror_mode": {
    "name": "ipython",
    "version": 3
   },
   "file_extension": ".py",
   "mimetype": "text/x-python",
   "name": "python",
   "nbconvert_exporter": "python",
   "pygments_lexer": "ipython3",
   "version": "3.10.10"
  }
 },
 "nbformat": 4,
 "nbformat_minor": 5
}
