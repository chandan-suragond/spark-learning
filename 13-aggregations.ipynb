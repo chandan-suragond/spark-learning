{
 "cells": [
  {
   "cell_type": "code",
   "execution_count": 1,
   "id": "3670ccb6",
   "metadata": {},
   "outputs": [],
   "source": [
    "import pyspark\n",
    "from pyspark.sql import *\n",
    "from pyspark.sql.functions import *"
   ]
  },
  {
   "cell_type": "code",
   "execution_count": 2,
   "id": "838123ac",
   "metadata": {},
   "outputs": [],
   "source": [
    "spark = SparkSession.builder \\\n",
    "                    .master('local[*]') \\\n",
    "                    .appName('aggregations_demo') \\\n",
    "                    .getOrCreate()"
   ]
  },
  {
   "cell_type": "code",
   "execution_count": 6,
   "id": "1b484f58",
   "metadata": {},
   "outputs": [
    {
     "name": "stdout",
     "output_type": "stream",
     "text": [
      "+---------+---------+--------------------+--------+---------------+---------+----------+--------------+\n",
      "|InvoiceNo|StockCode|         Description|Quantity|    InvoiceDate|UnitPrice|CustomerID|       Country|\n",
      "+---------+---------+--------------------+--------+---------------+---------+----------+--------------+\n",
      "|   536365|     NULL|WHITE HANGING HEA...|       6|01-12-2010 8.26|     2.55|     17850|United Kingdom|\n",
      "|   536365|    71053| WHITE METAL LANTERN|       6|01-12-2010 8.26|     3.39|     17850|United Kingdom|\n",
      "|   536365|   84406B|CREAM CUPID HEART...|       8|01-12-2010 8.26|     2.75|     17850|United Kingdom|\n",
      "|   536365|   84029G|KNITTED UNION FLA...|       6|01-12-2010 8.26|     3.39|     17850|United Kingdom|\n",
      "|   536365|   84029E|RED WOOLLY HOTTIE...|       6|01-12-2010 8.26|     3.39|     17850|United Kingdom|\n",
      "|   536365|    22752|SET 7 BABUSHKA NE...|       2|01-12-2010 8.26|     7.65|     17850|United Kingdom|\n",
      "|   536365|    21730|GLASS STAR FROSTE...|       6|01-12-2010 8.26|     4.25|     17850|United Kingdom|\n",
      "|   536366|    22633|HAND WARMER UNION...|       6|01-12-2010 8.28|     1.85|     17850|United Kingdom|\n",
      "|   536366|    22632|HAND WARMER RED P...|       6|01-12-2010 8.28|     1.85|     17850|United Kingdom|\n",
      "|   536367|    84879|ASSORTED COLOUR B...|      32|01-12-2010 8.34|     1.69|     13047|United Kingdom|\n",
      "+---------+---------+--------------------+--------+---------------+---------+----------+--------------+\n",
      "only showing top 10 rows\n",
      "\n"
     ]
    }
   ],
   "source": [
    "raw_df = spark.read \\\n",
    "                .format('csv') \\\n",
    "                .option('inferSchema', True) \\\n",
    "                .option('header', True) \\\n",
    "                .load(r'C:\\Users\\chasurag\\Documents\\my repos\\data\\invoices.csv')\n",
    "\n",
    "raw_df.show(10)"
   ]
  },
  {
   "cell_type": "code",
   "execution_count": 10,
   "id": "6d2ab397",
   "metadata": {},
   "outputs": [
    {
     "name": "stdout",
     "output_type": "stream",
     "text": [
      "+----------+--------------+---------+-----------------------+\n",
      "|total_rows|total_quantity|avg_price|total_distinct_invoices|\n",
      "+----------+--------------+---------+-----------------------+\n",
      "|    541909|       5176450|     4.61|                  25900|\n",
      "+----------+--------------+---------+-----------------------+\n",
      "\n"
     ]
    }
   ],
   "source": [
    "raw_df.select(count(expr('*')).alias('total_rows'), \\\n",
    "                sum(col('quantity')).alias('total_quantity'), \\\n",
    "                round(avg('UnitPrice'), 2).alias('avg_price'), \\\n",
    "                count_distinct('invoiceno').alias('total_distinct_invoices')).show()"
   ]
  },
  {
   "cell_type": "code",
   "execution_count": 16,
   "id": "3c3af8e7",
   "metadata": {},
   "outputs": [
    {
     "name": "stdout",
     "output_type": "stream",
     "text": [
      "+--------------+---------+--------------+-------------+\n",
      "|       country|invoiceno|total_quantity|invoice_value|\n",
      "+--------------+---------+--------------+-------------+\n",
      "|United Kingdom|   536446|           329|       440.89|\n",
      "|United Kingdom|   536508|           216|       155.52|\n",
      "|United Kingdom|   537018|            -3|          0.0|\n",
      "|United Kingdom|   537401|           -24|          0.0|\n",
      "|United Kingdom|   537811|            74|       268.86|\n",
      "|United Kingdom|  C537824|            -2|        -14.9|\n",
      "|United Kingdom|   538895|           370|       247.38|\n",
      "|United Kingdom|   540453|           341|       302.45|\n",
      "|United Kingdom|   536627|            64|        306.2|\n",
      "|United Kingdom|   537224|           700|      1415.97|\n",
      "|United Kingdom|   537230|             1|         2.95|\n",
      "|United Kingdom|   537682|            72|         99.6|\n",
      "|United Kingdom|  C538749|            -1|        -9.95|\n",
      "|        Israel|  C539037|           -56|      -227.44|\n",
      "|United Kingdom|   539076|            96|        391.0|\n",
      "|United Kingdom|   539453|          1121|      5022.16|\n",
      "|United Kingdom|   539316|            22|         97.3|\n",
      "|United Kingdom|  C536391|          -132|      -141.48|\n",
      "|United Kingdom|   537140|            54|        70.42|\n",
      "|United Kingdom|  C537320|            -1|        -8.95|\n",
      "+--------------+---------+--------------+-------------+\n",
      "only showing top 20 rows\n",
      "\n"
     ]
    }
   ],
   "source": [
    "raw_df.groupBy('country', 'invoiceno') \\\n",
    "        .agg(\n",
    "                sum('quantity').alias('total_quantity'), \\\n",
    "                round(sum(col('quantity') * col('unitprice')), 2).alias('invoice_value')  \n",
    "        ) \\\n",
    "        .show()"
   ]
  },
  {
   "cell_type": "code",
   "execution_count": null,
   "id": "54c27d10",
   "metadata": {},
   "outputs": [],
   "source": []
  }
 ],
 "metadata": {
  "kernelspec": {
   "display_name": ".venv",
   "language": "python",
   "name": "python3"
  },
  "language_info": {
   "codemirror_mode": {
    "name": "ipython",
    "version": 3
   },
   "file_extension": ".py",
   "mimetype": "text/x-python",
   "name": "python",
   "nbconvert_exporter": "python",
   "pygments_lexer": "ipython3",
   "version": "3.10.10"
  }
 },
 "nbformat": 4,
 "nbformat_minor": 5
}
